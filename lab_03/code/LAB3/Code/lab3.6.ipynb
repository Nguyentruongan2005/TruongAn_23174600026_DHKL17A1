{
 "cells": [
  {
   "cell_type": "code",
   "execution_count": null,
   "metadata": {},
   "outputs": [],
   "source": [
    "import pandas as pd\n",
    "stocks1 = pd.read_csv('C:/17A1DHKL/LAB3/DATA/stocks1.csv')\n",
    "stocks2 = pd.read_csv('C:/17A1DHKL/LAB3/DATA/stocks2.csv')\n",
    "stocks = pd.concat([stocks1, stocks2], ignore_index=True)\n",
    "# Tạo Pivot Table với date làm chỉ mục, symbol làm cột, và giá trị trung bình close\n",
    "pivot_table = stocks.pivot_table(\n",
    "    index='date', \n",
    "    columns='symbol', \n",
    "    values='close', \n",
    "    aggfunc='mean')\n",
    "print(pivot_table)"
   ]
  },
  {
   "cell_type": "code",
   "execution_count": null,
   "metadata": {},
   "outputs": [],
   "source": [
    "# Tính tổng volume giao dịch cho mỗi symbol\n",
    "total_volume = stocks.groupby('symbol')['volume'].sum()\n",
    "# Thêm cột tổng volume vào Pivot Table\n",
    "pivot_table['Total Volume'] = total_volume\n",
    "print(pivot_table)"
   ]
  },
  {
   "cell_type": "code",
   "execution_count": null,
   "metadata": {},
   "outputs": [],
   "source": [
    "sorted_pivot_table = pivot_table.sort_values(by='Total Volume', ascending=False)\n",
    "print(sorted_pivot_table.head())"
   ]
  }
 ],
 "metadata": {
  "kernelspec": {
   "display_name": "base",
   "language": "python",
   "name": "python3"
  },
  "language_info": {
   "name": "python",
   "version": "3.12.4"
  }
 },
 "nbformat": 4,
 "nbformat_minor": 2
}
