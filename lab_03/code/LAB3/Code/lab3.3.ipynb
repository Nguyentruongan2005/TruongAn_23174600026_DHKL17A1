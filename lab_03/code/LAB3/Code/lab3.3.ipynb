{
 "cells": [
  {
   "cell_type": "code",
   "execution_count": null,
   "metadata": {},
   "outputs": [],
   "source": [
    "import pandas as pd\n",
    "stocks2 = pd.read_csv('C:/17A1DHKL/LAB3/DATA/stocks2.csv')"
   ]
  },
  {
   "cell_type": "code",
   "execution_count": null,
   "metadata": {},
   "outputs": [],
   "source": [
    "stocks1 = pd.read_csv('C:/17A1DHKL/LAB3/DATA/stocks1.csv')\n",
    "stocks = pd.concat([stocks1, stocks2], ignore_index=True)\n",
    "print(stocks)"
   ]
  },
  {
   "cell_type": "code",
   "execution_count": null,
   "metadata": {},
   "outputs": [],
   "source": [
    "stocks_mean = stocks.groupby('date')[['open', 'high', 'low', 'close']].mean()\n",
    "print(stocks_mean.head())"
   ]
  }
 ],
 "metadata": {
  "kernelspec": {
   "display_name": "base",
   "language": "python",
   "name": "python3"
  },
  "language_info": {
   "name": "python",
   "version": "3.12.4"
  }
 },
 "nbformat": 4,
 "nbformat_minor": 2
}
