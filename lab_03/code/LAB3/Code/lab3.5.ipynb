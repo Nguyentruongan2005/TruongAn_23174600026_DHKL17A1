{
 "cells": [
  {
   "cell_type": "code",
   "execution_count": null,
   "metadata": {},
   "outputs": [],
   "source": [
    "import pandas as pd\n",
    "stocks1 = pd.read_csv('C:/17A1DHKL/LAB3/DATA/stocks1.csv')\n",
    "stocks2 = pd.read_csv('C:/17A1DHKL/LAB3/DATA/stocks2.csv')\n",
    "stocks = pd.concat([stocks1, stocks2], ignore_index=True)\n",
    "stocks.set_index(['date', 'symbol'], inplace=True)"
   ]
  },
  {
   "cell_type": "code",
   "execution_count": null,
   "metadata": {},
   "outputs": [],
   "source": [
    "grouped_stocks = stocks.groupby(['date', 'symbol'])[['open', 'high', 'low', 'close', 'volume']].mean()\n",
    "print(grouped_stocks)"
   ]
  },
  {
   "cell_type": "code",
   "execution_count": null,
   "metadata": {},
   "outputs": [],
   "source": [
    "sorted_stocks = grouped_stocks.sort_index(level=['date', 'symbol'])\n",
    "print(sorted_stocks.head())"
   ]
  }
 ],
 "metadata": {
  "kernelspec": {
   "display_name": "base",
   "language": "python",
   "name": "python3"
  },
  "language_info": {
   "name": "python",
   "version": "3.12.4"
  }
 },
 "nbformat": 4,
 "nbformat_minor": 2
}
