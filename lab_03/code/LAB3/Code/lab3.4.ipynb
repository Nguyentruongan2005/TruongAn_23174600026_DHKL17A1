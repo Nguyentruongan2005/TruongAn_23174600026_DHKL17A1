{
 "cells": [
  {
   "cell_type": "code",
   "execution_count": null,
   "metadata": {},
   "outputs": [],
   "source": [
    "import pandas as pd\n",
    "companies = pd.read_csv('C:/17A1DHKL/LAB3/DATA/companies.csv')\n",
    "print(companies.head())"
   ]
  },
  {
   "cell_type": "code",
   "execution_count": null,
   "metadata": {},
   "outputs": [],
   "source": [
    "stocks1 = pd.read_csv('C:/17A1DHKL/LAB3/DATA/stocks1.csv')\n",
    "stocks2 = pd.read_csv('C:/17A1DHKL/LAB3/DATA/stocks2.csv')\n",
    "stocks = pd.concat([stocks1, stocks2], ignore_index=True)\n",
    "merged_data = pd.m(stocks, companies, on='symbol') #companies.csv ko có cột symbol\n",
    "print(merged_data)"
   ]
  },
  {
   "cell_type": "code",
   "execution_count": null,
   "metadata": {},
   "outputs": [],
   "source": [
    "gia_dong_cua_tb = merged_data.groupby('name')['close'].mean()\n",
    "print(gia_dong_cua_tb)"
   ]
  }
 ],
 "metadata": {
  "kernelspec": {
   "display_name": "base",
   "language": "python",
   "name": "python3"
  },
  "language_info": {
   "name": "python",
   "version": "3.12.4"
  }
 },
 "nbformat": 4,
 "nbformat_minor": 2
}
