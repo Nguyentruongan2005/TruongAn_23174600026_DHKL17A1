{
 "cells": [
  {
   "cell_type": "markdown",
   "metadata": {},
   "source": [
    "# Tạo Dữ Liệu Mô Phỏng Nhiệt Độ"
   ]
  },
  {
   "cell_type": "code",
   "execution_count": 3,
   "metadata": {},
   "outputs": [
    {
     "name": "stdout",
     "output_type": "stream",
     "text": [
      "Nhiệt độ trung bình trong tháng là 21.31 độ C\n"
     ]
    }
   ],
   "source": [
    "import numpy as np\n",
    "np.random.uniform(40)\n",
    "temperature = np.random.uniform(low=1,high=35,size=30).round(2)\n",
    "avg_tem = np.mean(temperature)\n",
    "print(f\"Nhiệt độ trung bình trong tháng là {avg_tem:.2f} độ C\")"
   ]
  },
  {
   "cell_type": "code",
   "execution_count": 4,
   "metadata": {},
   "outputs": [
    {
     "name": "stdout",
     "output_type": "stream",
     "text": [
      "Ngày có nhiệt độ cao nhất: Ngày thứ 22, Nhiệt độ là: 33.89 độ C\n",
      "Ngày có nhiệt độ thấp nhất: Ngày thứ 1, Nhiệt độ là: 2.28 độ C\n",
      "Ngày có sự biến đổi nhiệt độ lớn nhất: Ngày 1, Sự thay đổi nhiệt độ: 24.19 độ C\n"
     ]
    }
   ],
   "source": [
    "highest_tem_day = np.argmax(temperature) + 1\n",
    "min_tem_day = np.argmin(temperature) + 1\n",
    "temp_diff = np.diff(temperature)\n",
    "max_diff_day = np.argmax(np.abs(temp_diff)) + 1 \n",
    "print(f\"Ngày có nhiệt độ cao nhất: Ngày thứ {highest_tem_day}, Nhiệt độ là: {temperature[highest_tem_day-1]} độ C\")\n",
    "print(f\"Ngày có nhiệt độ thấp nhất: Ngày thứ {min_tem_day}, Nhiệt độ là: {temperature[min_tem_day-1]} độ C\")\n",
    "print(f\"Ngày có sự biến đổi nhiệt độ lớn nhất: Ngày {max_diff_day}, Sự thay đổi nhiệt độ: {temp_diff[max_diff_day-1]:.2f} độ C\")"
   ]
  },
  {
   "cell_type": "code",
   "execution_count": 5,
   "metadata": {},
   "outputs": [
    {
     "name": "stdout",
     "output_type": "stream",
     "text": [
      "Nhiệt độ các ngày có nhiệt độ > 20 độ C: [26.47 24.16 20.05 26.2  21.13 29.9  21.75 21.66 26.78 27.37 28.24 32.24\n",
      " 25.56 33.73 33.89 25.65 26.72 31.72 31.62]\n",
      "Nhiệt độ của ngày 5, 10, 15, 20 và 25: [26.2  19.86 26.78 25.56 13.84]\n",
      "Nhiệt độ của các ngày có nhiệt độ > trung bình: [26.47 24.16 26.2  29.9  21.75 21.66 26.78 27.37 28.24 32.24 25.56 33.73\n",
      " 33.89 25.65 26.72 31.72 31.62]\n",
      "Nhiệt độ các ngày chẵn trong tháng: [ 2.28 24.16 26.2  29.9  21.75 21.66 15.08 26.78 27.37 32.24 33.73  9.94\n",
      " 13.84 25.65 31.72]\n",
      "Nhiệt độ các ngày lẻ trong tháng: [26.47 20.05 21.13 15.71 19.86 14.5   5.65 10.72 28.24 25.56 33.89  7.85\n",
      "  9.14 26.72 31.62]\n"
     ]
    }
   ],
   "source": [
    "above_20 = temperature[temperature > 20] \n",
    "specific_days = temperature[[4, 9, 14, 19, 24]] \n",
    "above_avg = temperature[temperature > avg_tem] \n",
    "even_days = temperature[::2] \n",
    "odd_days = temperature[1::2] \n",
    "print(f\"Nhiệt độ các ngày có nhiệt độ > 20 độ C: {above_20}\")\n",
    "print(f\"Nhiệt độ của ngày 5, 10, 15, 20 và 25: {specific_days}\")\n",
    "print(f\"Nhiệt độ của các ngày có nhiệt độ > trung bình: {above_avg}\")\n",
    "print(f\"Nhiệt độ các ngày chẵn trong tháng: {even_days}\")\n",
    "print(f\"Nhiệt độ các ngày lẻ trong tháng: {odd_days}\")"
   ]
  }
 ],
 "metadata": {
  "kernelspec": {
   "display_name": "base",
   "language": "python",
   "name": "python3"
  },
  "language_info": {
   "codemirror_mode": {
    "name": "ipython",
    "version": 3
   },
   "file_extension": ".py",
   "mimetype": "text/x-python",
   "name": "python",
   "nbconvert_exporter": "python",
   "pygments_lexer": "ipython3",
   "version": "3.12.4"
  }
 },
 "nbformat": 4,
 "nbformat_minor": 2
}
