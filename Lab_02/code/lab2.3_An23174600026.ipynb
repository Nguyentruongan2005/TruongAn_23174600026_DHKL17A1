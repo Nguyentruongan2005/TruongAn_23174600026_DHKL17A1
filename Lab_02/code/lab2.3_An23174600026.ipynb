{
 "cells": [
  {
   "cell_type": "code",
   "execution_count": null,
   "metadata": {},
   "outputs": [],
   "source": [
    "import numpy as np\n",
    "efficiency_file = 'C:/17A1DHKL/LAB2/DATA/efficiency.txt'\n",
    "shifts_file = 'C:/17A1DHKL/LAB2/DATA/shifts.txt'\n",
    "with open(efficiency_file, 'r') as f_efficiency:\n",
    "    efficiency = [int(line.strip()) for line in f_efficiency]\n",
    "with open(shifts_file, 'r') as f_shifts:\n",
    "    shifts = [line.strip() for line in f_shifts]"
   ]
  },
  {
   "cell_type": "code",
   "execution_count": null,
   "metadata": {},
   "outputs": [],
   "source": [
    "np_shifts = np.array(shifts)\n",
    "print(np_shifts.dtype)"
   ]
  },
  {
   "cell_type": "code",
   "execution_count": null,
   "metadata": {},
   "outputs": [],
   "source": [
    "np_efficiency = np.array(efficiency)\n",
    "print(np_efficiency.dtype)"
   ]
  },
  {
   "cell_type": "code",
   "execution_count": null,
   "metadata": {},
   "outputs": [],
   "source": [
    "\n",
    "morning_indices = np.where(np_shifts == 'Morning')\n",
    "morning_efficiency = np_efficiency[morning_indices]\n",
    "average_morning_efficiency = np.mean(morning_efficiency)\n",
    "print(\"Hiệu suất trung bình ca 'Morning':\", average_morning_efficiency)"
   ]
  },
  {
   "cell_type": "code",
   "execution_count": null,
   "metadata": {},
   "outputs": [],
   "source": [
    "\n",
    "other_indices = np.where(np_shifts != 'Morning')\n",
    "\n",
    "\n",
    "other_efficiency = np_efficiency[other_indices]\n",
    "average_other_efficiency = np.mean(other_efficiency)\n",
    "print(\"Hiệu suất trung bình các ca khác:\", average_other_efficiency)"
   ]
  },
  {
   "cell_type": "code",
   "execution_count": null,
   "metadata": {},
   "outputs": [],
   "source": [
    "\n",
    "dtype = [('shift', 'U10'), ('efficiency', 'float')]\n",
    "workers = np.array(list(zip(np_shifts, np_efficiency)), dtype=dtype)\n",
    "print(\"Mảng cấu trúc workers:\\n\", workers)"
   ]
  },
  {
   "cell_type": "code",
   "execution_count": null,
   "metadata": {},
   "outputs": [],
   "source": [
    "\n",
    "sorted_workers = np.sort(workers, order='efficiency')\n",
    "print(\"Mảng sau khi sắp xếp:\", sorted_workers)\n",
    "lowest_efficiency = sorted_workers[0]\n",
    "highest_efficiency = sorted_workers[-1]\n",
    "print(\"Ca làm việc có hiệu suất thấp nhất:\", lowest_efficiency)\n",
    "print(\"Ca làm việc có hiệu suất cao nhất:\", highest_efficiency)"
   ]
  }
 ],
 "metadata": {
  "kernelspec": {
   "display_name": "base",
   "language": "python",
   "name": "python3"
  },
  "language_info": {
   "name": "python",
   "version": "3.12.4"
  }
 },
 "nbformat": 4,
 "nbformat_minor": 2
}
