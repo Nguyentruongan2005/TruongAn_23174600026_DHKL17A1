{
 "cells": [
  {
   "cell_type": "code",
   "execution_count": 1,
   "metadata": {},
   "outputs": [
    {
     "name": "stdout",
     "output_type": "stream",
     "text": [
      "Array arr: [0 1 2 3 4 5 6 7 8 9]\n",
      "Kiểu dữ liệu của arr: int32\n",
      "Kích thước của arr: (10,)\n"
     ]
    }
   ],
   "source": [
    "import numpy as np\n",
    "arr = np.arange(10)\n",
    "print(\"Array arr:\", arr)\n",
    "print(\"Kiểu dữ liệu của arr:\", arr.dtype)\n",
    "print(\"Kích thước của arr:\", arr.shape)"
   ]
  },
  {
   "cell_type": "code",
   "execution_count": null,
   "metadata": {},
   "outputs": [],
   "source": [
    "arr_odd = arr[arr % 2 != 0]\n",
    "print(\"Array arr_odd:\", arr_odd)"
   ]
  },
  {
   "cell_type": "code",
   "execution_count": null,
   "metadata": {},
   "outputs": [],
   "source": [
    "arr_update_1 = np.where(arr % 2 == 0, arr, 100)\n",
    "print(\"Array arr_update_1:\", arr_update_1)"
   ]
  }
 ],
 "metadata": {
  "kernelspec": {
   "display_name": "base",
   "language": "python",
   "name": "python3"
  },
  "language_info": {
   "codemirror_mode": {
    "name": "ipython",
    "version": 3
   },
   "file_extension": ".py",
   "mimetype": "text/x-python",
   "name": "python",
   "nbconvert_exporter": "python",
   "pygments_lexer": "ipython3",
   "version": "3.12.4"
  }
 },
 "nbformat": 4,
 "nbformat_minor": 2
}
