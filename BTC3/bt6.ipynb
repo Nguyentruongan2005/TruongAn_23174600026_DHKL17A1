{
 "cells": [
  {
   "cell_type": "code",
   "execution_count": null,
   "metadata": {},
   "outputs": [],
   "source": [
    "import numpy as np\n",
    "arr = np.array([[True, True, True],\n",
    "                [True, True, True],\n",
    "                [True, True, True]])\n",
    "print(\"Array có kích thước 3x3:\\n\", arr)"
   ]
  },
  {
   "cell_type": "code",
   "execution_count": null,
   "metadata": {},
   "outputs": [],
   "source": [
    "arr_1D = np.array([0,1,2,3,4,5,6,7,8])\n",
    "arr_2D = arr_1D.reshape(3, 3)\n",
    "print(\"arr_2D:\\n\", arr_2D)"
   ]
  },
  {
   "cell_type": "code",
   "execution_count": null,
   "metadata": {},
   "outputs": [],
   "source": [
    "arr_2D = np.flip(arr_1D, axis=0)\n",
    "arr_2D = np.flip(arr_2D, axis=1)\n",
    "print(\"Array sau khi đảo ngược:\\n\", arr_2D)"
   ]
  },
  {
   "cell_type": "code",
   "execution_count": null,
   "metadata": {},
   "outputs": [],
   "source": [
    "arr_2D = arr_2D[::-1]\n",
    "print(\"arr_2D:\\n\", arr_2D)"
   ]
  },
  {
   "cell_type": "code",
   "execution_count": null,
   "metadata": {},
   "outputs": [],
   "source": [
    "arr_2D = arr_2D[:, ::-1]\n",
    "print(\"arr_2D:\\n\", arr_2D)"
   ]
  },
  {
   "cell_type": "code",
   "execution_count": null,
   "metadata": {},
   "outputs": [],
   "source": [
    "arr_2D_null = np.array([[1, 2, 3],[np.nan, 5, 6],[7, np.nan, 9],[4, 5, 6]])\n",
    "print(\"arr_2D_null:\\n\", arr_2D_null)\n",
    "null_check = np.isnan(arr_2D_null)\n",
    "print(\"Check for NaN values:\\n\", null_check)"
   ]
  },
  {
   "cell_type": "code",
   "execution_count": null,
   "metadata": {},
   "outputs": [],
   "source": [
    "arr_2D_null[np.isnan(arr_2D_null)] = 0\n",
    "print(\"arr_2D_null:\\n\", arr_2D_null)"
   ]
  }
 ],
 "metadata": {
  "kernelspec": {
   "display_name": "base",
   "language": "python",
   "name": "python3"
  },
  "language_info": {
   "name": "python",
   "version": "3.12.4"
  }
 },
 "nbformat": 4,
 "nbformat_minor": 2
}
