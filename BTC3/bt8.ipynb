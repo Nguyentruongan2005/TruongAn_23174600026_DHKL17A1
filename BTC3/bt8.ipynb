{
 "cells": [
  {
   "cell_type": "code",
   "execution_count": null,
   "metadata": {},
   "outputs": [],
   "source": [
    "import numpy as np\n",
    "# 1.Tạo numpy array np_positions từ list positions\n",
    "positions = ['GK','M','GK','M','A','D','M','A','GK','M','A','D','A','M','GK','M','D','GK','M','D'] \n",
    "np_positions = np.array(positions)\n",
    "# Tạo numpy array np_heights từ list heights\n",
    "heights = [175,176,177,189,156,194,198,156,188,180,160,159,157,195,175,165,163,162,176,154] \n",
    "np_heights = np.array(heights)\n",
    "# 2.Tính chiều cao trung bình của các GK\n",
    "gk_heights = np_heights[np_positions == 'GK']\n",
    "avg_gk_height = np.mean(gk_heights)\n",
    "print(f\"Chiều cao trung bình của các thủ môn (GK): {avg_gk_height:.2f} cm\")\n",
    "# 3.Tính chiều cao trung bình của những vị trí khác (không phải GK)\n",
    "other_heights = np_heights[np_positions != 'GK']\n",
    "avg_other_height = np.mean(other_heights)\n",
    "print(f\"Chiều cao trung bình của các vị trí khác: {avg_other_height:.2f} cm\")\n",
    "# 4.Tạo mảng dữ liệu có cấu trúc tự định nghĩa\n",
    "players = np.zeros(len(positions), dtype=[('position', 'U15'), ('height', float)])\n",
    "players['position'] = np_positions\n",
    "players['height'] = np_heights\n",
    "# 5.Sắp xếp mảng players theo height\n",
    "players_sorted = np.sort(players, order='height')\n",
    "print(f\"Vị trí có chiều cao thấp nhất: {players_sorted[0]['position']} ({players_sorted[0]['height']} cm)\")\n",
    "print(f\"Vị trí có chiều cao cao nhất: {players_sorted[-1]['position']} ({players_sorted[-1]['height']} cm)\")"
   ]
  },
  {
   "cell_type": "code",
   "execution_count": null,
   "metadata": {},
   "outputs": [],
   "source": []
  }
 ],
 "metadata": {
  "kernelspec": {
   "display_name": "base",
   "language": "python",
   "name": "python3"
  },
  "language_info": {
   "name": "python",
   "version": "3.12.4"
  }
 },
 "nbformat": 4,
 "nbformat_minor": 2
}
