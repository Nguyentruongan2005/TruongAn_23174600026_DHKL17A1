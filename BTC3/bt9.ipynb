{
 "cells": [
  {
   "cell_type": "code",
   "execution_count": null,
   "metadata": {},
   "outputs": [],
   "source": [
    "import csv\n",
    "with open('euro2012.csv', mode='r', encoding='utf-8') as file:\n",
    "    reader = csv.DictReader(file)\n",
    "    data = list(reader)\n",
    "# 1.In giá trị cột Goals\n",
    "print(\"1. Giá trị cột Goals:\")\n",
    "for row in data:\n",
    "    print(row['Goals'])"
   ]
  },
  {
   "cell_type": "code",
   "execution_count": null,
   "metadata": {},
   "outputs": [],
   "source": [
    "# 2.Số đội tham gia Euro2012\n",
    "teams = {row['Team'] for row in data}  # Sử dụng set để loại bỏ trùng lặp\n",
    "num_teams = len(teams)\n",
    "print(f\"\\n2. Số đội tham gia Euro2012: {num_teams}\")"
   ]
  },
  {
   "cell_type": "code",
   "execution_count": null,
   "metadata": {},
   "outputs": [],
   "source": [
    "# 3.In thông tin của Euro2012\n",
    "print(\"\\n3. Thông tin của Euro2012:\")\n",
    "print(f\"Số dòng: {len(data)}, Số cột: {len(data[0])}\")"
   ]
  },
  {
   "cell_type": "code",
   "execution_count": null,
   "metadata": {},
   "outputs": [],
   "source": [
    "# 4.Tạo dataframe mới chỉ chứa các cột 'Team', 'Yellow Cards', 'Red Cards'\n",
    "discipline = [(row['Team'], row['Yellow Cards'], row['Red Cards']) for row in data]\n",
    "print(\"\\n4. Dataframe discipline:\")\n",
    "for entry in discipline:\n",
    "    print(entry)"
   ]
  },
  {
   "cell_type": "code",
   "execution_count": null,
   "metadata": {},
   "outputs": [],
   "source": [
    "# 5.Sắp xếp discipline theo 'Red Cards', rồi 'Yellow Cards'\n",
    "discipline_sorted = sorted(discipline, key=lambda x: (-int(x[2]), -int(x[1])))\n",
    "print(\"\\n5. Dataframe discipline đã sắp xếp:\")\n",
    "for entry in discipline_sorted:\n",
    "    print(entry)"
   ]
  },
  {
   "cell_type": "code",
   "execution_count": null,
   "metadata": {},
   "outputs": [],
   "source": [
    "# 6.Tính trung bình Yellow Cards\n",
    "avg_yellow_cards = sum(int(row['Yellow Cards']) for row in data) / len(data)\n",
    "print(f\"\\n6a. Trung bình Yellow Cards: {avg_yellow_cards:.2f}\")\n",
    "# Lọc các đội đã ghi hơn 6 bàn thắng\n",
    "print(\"\\n6b. Các đội đã ghi hơn 6 bàn thắng:\")\n",
    "for row in data:\n",
    "    if int(row['Goals']) > 6:\n",
    "        print(row['Team'])"
   ]
  },
  {
   "cell_type": "code",
   "execution_count": null,
   "metadata": {},
   "outputs": [],
   "source": [
    "# 7.In các đội mà tên bắt đầu bằng 'G'\n",
    "print(\"\\n7. Các đội có tên bắt đầu bằng 'G':\")\n",
    "for row in data:\n",
    "    if row['Team'].startswith('G'):\n",
    "        print(row['Team'])"
   ]
  },
  {
   "cell_type": "code",
   "execution_count": null,
   "metadata": {},
   "outputs": [],
   "source": [
    "# 8.In 7 cột đầu của euro12\n",
    "print(\"\\n8. 7 cột đầu của euro12:\")\n",
    "for row in data:\n",
    "    print(list(row.values())[:7])"
   ]
  },
  {
   "cell_type": "code",
   "execution_count": null,
   "metadata": {},
   "outputs": [],
   "source": [
    "# 9.In tất cả các cột, trừ 3 cột cuối\n",
    "print(\"\\n9. Tất cả các cột, trừ 3 cột cuối:\")\n",
    "for row in data:\n",
    "    print(list(row.values())[:-3])"
   ]
  },
  {
   "cell_type": "code",
   "execution_count": null,
   "metadata": {},
   "outputs": [],
   "source": [
    "# 10.In các cột Team, Goals, Shooting Accuracy, Yellow Cards, Red Cards\n",
    "print(\"\\n10. Các cột được chỉ định:\")\n",
    "for row in data:\n",
    "    print((row['Team'], row['Goals'], row['Shooting Accuracy'], row['Yellow Cards'], row['Red Cards']))\n",
    "# 11.In các cột 'Team', 'Shooting Accuracy' cho England, Italy, Russia\n",
    "print(\"\\n11. Thông tin 'Team', 'Shooting Accuracy' cho England, Italy, Russia:\")\n",
    "for row in data:\n",
    "    if row['Team'] in ['England', 'Italy', 'Russia']:\n",
    "        print((row['Team'], row['Shooting Accuracy']))"
   ]
  }
 ],
 "metadata": {
  "kernelspec": {
   "display_name": "base",
   "language": "python",
   "name": "python3"
  },
  "language_info": {
   "name": "python",
   "version": "3.12.4"
  }
 },
 "nbformat": 4,
 "nbformat_minor": 2
}
