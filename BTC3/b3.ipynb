{
 "cells": [
  {
   "cell_type": "code",
   "execution_count": null,
   "metadata": {},
   "outputs": [],
   "source": [
    "import numpy as np\n",
    "arr_a = np.array([1,2,3,3,4,3,4,5,6])\n",
    "arr_b = np.array([7,2,10,2,7,4,9,4,9,8])\n",
    "arr_c = np.unique(np.concatenate((arr_a, arr_b)))\n",
    "print(\"Array arr_c:\", arr_c)"
   ]
  },
  {
   "cell_type": "code",
   "execution_count": null,
   "metadata": {},
   "outputs": [],
   "source": [
    "arr_d = np.setdiff1d(arr_a, arr_b)\n",
    "print(\"Array arr_d:\", arr_d)\n"
   ]
  },
  {
   "cell_type": "code",
   "execution_count": null,
   "metadata": {},
   "outputs": [],
   "source": [
    "arr_e = np.array([2,6,1,9,10,3,27,8,6,25,16])\n",
    "arr_f = arr_e[(arr_e >= 5) & (arr_e <= 10)]\n",
    "print(\"Array arr_f:\", arr_f)"
   ]
  }
 ],
 "metadata": {
  "kernelspec": {
   "display_name": "base",
   "language": "python",
   "name": "python3"
  },
  "language_info": {
   "name": "python",
   "version": "3.12.4"
  }
 },
 "nbformat": 4,
 "nbformat_minor": 2
}
