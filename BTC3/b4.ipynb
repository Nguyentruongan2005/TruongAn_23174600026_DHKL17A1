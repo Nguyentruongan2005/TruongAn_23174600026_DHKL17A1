{
 "cells": [
  {
   "cell_type": "code",
   "execution_count": null,
   "metadata": {},
   "outputs": [],
   "source": [
    "import numpy as np\n",
    "arr_zeros = np.zeros(10)\n",
    "arr_zeros[5] = 1\n",
    "print(\"Array arr_zeros:\", arr_zeros)"
   ]
  },
  {
   "cell_type": "code",
   "execution_count": null,
   "metadata": {},
   "outputs": [],
   "source": [
    "arr_6 = np.arange(10,25)[::-1]\n",
    "print(\"Array arr_6:\", arr_6)"
   ]
  },
  {
   "cell_type": "code",
   "execution_count": null,
   "metadata": {},
   "outputs": [],
   "source": [
    "arr_k = np.array([1,2,0,8,2,0,1,3,0,5,0])\n",
    "arr_k1 = arr_k[arr_k != 0]\n",
    "print(\"Array arr_k:\", arr_k1)"
   ]
  }
 ],
 "metadata": {
  "kernelspec": {
   "display_name": "base",
   "language": "python",
   "name": "python3"
  },
  "language_info": {
   "name": "python",
   "version": "3.12.4"
  }
 },
 "nbformat": 4,
 "nbformat_minor": 2
}
