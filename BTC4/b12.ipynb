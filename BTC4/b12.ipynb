{
 "cells": [
  {
   "cell_type": "code",
   "execution_count": null,
   "metadata": {},
   "outputs": [],
   "source": [
    "import pandas as pd\n",
    "ser1  = pd.Series(range(5))\n",
    "ser2 = pd.Series(list('abcde'))"
   ]
  },
  {
   "cell_type": "code",
   "execution_count": null,
   "metadata": {},
   "outputs": [],
   "source": [
    "# Xếp chồng theo chiều dọc\n",
    "df_doc = pd.concat([ser1, ser2], axis=0, ignore_index=True)\n",
    "print(\"Xếp chồng theo chiều dọc:\",df_doc)\n"
   ]
  },
  {
   "cell_type": "code",
   "execution_count": null,
   "metadata": {},
   "outputs": [],
   "source": [
    "# Xếp chồng theo chiều ngang\n",
    "df_ngang = pd.concat([ser1, ser2], axis=1)\n",
    "print(\"\\nXếp chồng theo chiều ngang:\",df_ngang)"
   ]
  }
 ],
 "metadata": {
  "kernelspec": {
   "display_name": "base",
   "language": "python",
   "name": "python3"
  },
  "language_info": {
   "name": "python",
   "version": "3.12.4"
  }
 },
 "nbformat": 4,
 "nbformat_minor": 2
}
