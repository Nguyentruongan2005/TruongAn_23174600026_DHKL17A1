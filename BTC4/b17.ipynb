{
 "cells": [
  {
   "cell_type": "code",
   "execution_count": null,
   "metadata": {},
   "outputs": [],
   "source": [
    "import pandas as pd\n",
    "import numpy as np\n",
    "# Tạo Series emails\n",
    "emails = pd.Series(['buying books at amazom,com', \n",
    "                    'ranese@egypt.com', 'matt@t.co',\n",
    "                    'narendra@modi.com'])\n",
    "# Biểu thức chính quy kiểm tra tính hợp lệ của email\n",
    "pattern = '[A-Za-z0-9._%+-]+@[A-Za-z0-9.-]+\\.[A-Za-z]{2,4}'\n",
    "# Kiểm tra tính hợp lệ của các email\n",
    "valid_emails = emails[emails.str.match(pattern)]\n",
    "print(valid_emails)"
   ]
  }
 ],
 "metadata": {
  "kernelspec": {
   "display_name": "base",
   "language": "python",
   "name": "python3"
  },
  "language_info": {
   "name": "python",
   "version": "3.12.4"
  }
 },
 "nbformat": 4,
 "nbformat_minor": 2
}
