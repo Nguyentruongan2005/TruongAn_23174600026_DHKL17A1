{
 "cells": [
  {
   "cell_type": "code",
   "execution_count": null,
   "metadata": {},
   "outputs": [],
   "source": [
    "import pandas as pd\n",
    "import numpy as np \n",
    "ser = pd.Series(np.random.random(20))"
   ]
  },
  {
   "cell_type": "code",
   "execution_count": null,
   "metadata": {},
   "outputs": [],
   "source": [
    "# Chia dữ liệu thành 10 phần vị bằng nhau và gán nhãn phần vị\n",
    "ser = pd.qcut(ser, q=10, labels=[f\"Quantile {i}\" for i in range(1, 11)])\n",
    "\n",
    "print(\"Chuỗi dữ liệu sau khi thay thế bằng tên phần vị:\")\n",
    "print(ser)"
   ]
  }
 ],
 "metadata": {
  "kernelspec": {
   "display_name": "base",
   "language": "python",
   "name": "python3"
  },
  "language_info": {
   "name": "python",
   "version": "3.12.4"
  }
 },
 "nbformat": 4,
 "nbformat_minor": 2
}
