{
 "cells": [
  {
   "cell_type": "code",
   "execution_count": null,
   "metadata": {},
   "outputs": [],
   "source": [
    "import pandas as pd\n",
    "import numpy as np \n",
    "ser = pd.Series(np.random.normal(10,5,25))\n",
    "print(\"Chuỗi ser :\",ser)"
   ]
  },
  {
   "cell_type": "code",
   "execution_count": null,
   "metadata": {},
   "outputs": [],
   "source": [
    "#Giá trị tối thiểu trong ser \n",
    "gtri_toi_thieu = ser.min()\n",
    "print(\"Gia tri toi thieu trong ser la:\",gtri_toi_thieu)"
   ]
  },
  {
   "cell_type": "code",
   "execution_count": null,
   "metadata": {},
   "outputs": [],
   "source": [
    "#Trung vị\n",
    "median_ser = ser.median()\n",
    "print(\"Trung vi cua ser la:\",median_ser)"
   ]
  },
  {
   "cell_type": "code",
   "execution_count": null,
   "metadata": {},
   "outputs": [],
   "source": [
    "#Phần centile thứ 25\n",
    "percentile_25 = ser.quantile(0.25)\n",
    "print(\"Phan centile thu 25:\",percentile_25)"
   ]
  },
  {
   "cell_type": "code",
   "execution_count": null,
   "metadata": {},
   "outputs": [],
   "source": [
    "#Phần centile thứ 75\n",
    "percentile_75 = ser.quantile(0.75)\n",
    "print(\"Phan centile thu 75:\",percentile_75)"
   ]
  },
  {
   "cell_type": "code",
   "execution_count": null,
   "metadata": {},
   "outputs": [],
   "source": [
    "#Giá trị tối đa\n",
    "gtri_toi_da = ser.max()\n",
    "print(\"Gia tri toi da cua ser:\",gtri_toi_da)"
   ]
  }
 ],
 "metadata": {
  "kernelspec": {
   "display_name": "base",
   "language": "python",
   "name": "python3"
  },
  "language_info": {
   "name": "python",
   "version": "3.12.4"
  }
 },
 "nbformat": 4,
 "nbformat_minor": 2
}
